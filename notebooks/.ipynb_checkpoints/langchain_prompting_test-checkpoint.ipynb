{
 "cells": [
  {
   "cell_type": "code",
   "execution_count": 1,
   "metadata": {
    "collapsed": true,
    "ExecuteTime": {
     "end_time": "2024-01-22T05:18:59.773803Z",
     "start_time": "2024-01-22T05:18:58.382274Z"
    }
   },
   "outputs": [],
   "source": [
    "from pathlib import Path\n",
    "from dotenv import load_dotenv\n",
    "import openai\n",
    "\n",
    "from rag_diary.config import Config\n",
    "\n",
    "current_folder = globals()['_dh'][0]\n",
    "\n",
    "load_dotenv(Path(current_folder).parent / \".env\")\n",
    "openai.api_key = Config().OPENAI_API_KEY\n",
    "\n",
    "config = Config()"
   ]
  },
  {
   "cell_type": "code",
   "outputs": [
    {
     "name": "stdout",
     "output_type": "stream",
     "text": [
      "What is 2 + 2?\n"
     ]
    }
   ],
   "source": [
    "from langchain.prompts import PromptTemplate\n",
    "\n",
    "prompt = PromptTemplate(input_variables=[\"prompt\"], template=\"{prompt}?\")\n",
    "\n",
    "print(prompt.format(prompt=\"What is 2 + 2\"))"
   ],
   "metadata": {
    "collapsed": false,
    "ExecuteTime": {
     "end_time": "2024-01-22T17:41:30.800351Z",
     "start_time": "2024-01-22T17:41:30.792269Z"
    }
   },
   "execution_count": 4
  },
  {
   "cell_type": "code",
   "outputs": [
    {
     "data": {
      "text/plain": "'A podcast player is a software or application that allows you to listen to and manage podcasts. It typically provides features such as subscribing to podcasts, downloading episodes, organizing them into playlists, and playing them on-demand. Popular podcast players include Apple Podcasts, Spotify, Google Podcasts, Stitcher, and Overcast.'"
     },
     "execution_count": 20,
     "metadata": {},
     "output_type": "execute_result"
    }
   ],
   "source": [
    "from langchain.chains import LLMChain\n",
    "from langchain_openai import ChatOpenAI\n",
    "\n",
    "llm = ChatOpenAI()\n",
    "\n",
    "llm = ChatOpenAI(model_name=\"gpt-3.5-turbo\", api_key=config.OPENAI_API_KEY)\n",
    "llmchain_chat = LLMChain(llm=llm, prompt=prompt)\n",
    "llmchain_chat.run({\"prompt\": \"podcast player\"})"
   ],
   "metadata": {
    "collapsed": false,
    "ExecuteTime": {
     "end_time": "2024-01-22T04:22:07.204407Z",
     "start_time": "2024-01-22T04:22:03.090265Z"
    }
   },
   "execution_count": 20
  },
  {
   "cell_type": "code",
   "outputs": [
    {
     "name": "stdout",
     "output_type": "stream",
     "text": [
      "\n",
      "\n",
      "\u001B[1m> Entering new PALChain chain...\u001B[0m\n"
     ]
    },
    {
     "name": "stderr",
     "output_type": "stream",
     "text": [
      "Python REPL can execute arbitrary code. Use with caution.\n"
     ]
    },
    {
     "name": "stdout",
     "output_type": "stream",
     "text": [
      "\u001B[32;1m\u001B[1;3mdef solution():\n",
      "    \"\"\"If my age is half of my dad's age and he is going to be 60 next year, what is my current age?\"\"\"\n",
      "    dad_age_next_year = 60\n",
      "    my_age = dad_age_next_year / 2\n",
      "    result = my_age\n",
      "    return result\u001B[0m\n",
      "\n",
      "\u001B[1m> Finished chain.\u001B[0m\n"
     ]
    },
    {
     "data": {
      "text/plain": "'30.0'"
     },
     "execution_count": 22,
     "metadata": {},
     "output_type": "execute_result"
    }
   ],
   "source": [
    "from langchain_experimental.pal_chain import PALChain\n",
    "\n",
    "\n",
    "palchain = PALChain.from_math_prompt(llm=llm, verbose=True)\n",
    "palchain.run(\"If my age is half of my dad's age and he is going to be 60 next year, what is my current age?\")\n",
    "\n"
   ],
   "metadata": {
    "collapsed": false,
    "ExecuteTime": {
     "end_time": "2024-01-22T04:37:49.734780Z",
     "start_time": "2024-01-22T04:37:45.687276Z"
    }
   },
   "execution_count": 22
  },
  {
   "cell_type": "code",
   "outputs": [
    {
     "name": "stdout",
     "output_type": "stream",
     "text": [
      "\n",
      "\n",
      "\u001B[1m> Entering new AgentExecutor chain...\u001B[0m\n",
      "\u001B[32;1m\u001B[1;3m I should always think about what to do\n",
      "Action: Wikipedia\n",
      "Action Input: Spain\u001B[0m"
     ]
    },
    {
     "name": "stderr",
     "output_type": "stream",
     "text": [
      "/Users/tonail_/code/rag-diary/venv/lib/python3.10/site-packages/wikipedia/wikipedia.py:389: GuessedAtParserWarning: No parser was explicitly specified, so I'm using the best available HTML parser for this system (\"html.parser\"). This usually isn't a problem, but if you run this code on another system, or in a different virtual environment, it may use a different parser and behave differently.\n",
      "\n",
      "The code that caused this warning is on line 389 of the file /Users/tonail_/code/rag-diary/venv/lib/python3.10/site-packages/wikipedia/wikipedia.py. To get rid of this warning, pass the additional argument 'features=\"html.parser\"' to the BeautifulSoup constructor.\n",
      "\n",
      "  lis = BeautifulSoup(html).find_all('li')\n"
     ]
    },
    {
     "name": "stdout",
     "output_type": "stream",
     "text": [
      "\n",
      "Observation: \u001B[36;1m\u001B[1;3mPage: Spain\n",
      "Summary: Spain (Spanish: España, [esˈpaɲa] ), or the Kingdom of Spain (Reino de España), is a country located in Southwestern Europe, with parts of its territory in the Atlantic Ocean, the Mediterranean Sea and Africa. It is the largest country in Southern Europe and the fourth-most populous European Union member state. Spanning across the majority of the Iberian Peninsula, its territory also includes the Canary Islands in the Atlantic Ocean, the Balearic Islands in the Mediterranean Sea, and the autonomous cities of Ceuta and Melilla in Africa. Peninsular Spain is bordered to the north by France, Andorra, and the Bay of Biscay; to the east and south by the Mediterranean Sea and Gibraltar; and to the west by Portugal and the Atlantic Ocean. Spain's capital and largest city is Madrid; other major urban areas include Barcelona, Valencia, Zaragoza, Seville, Málaga, Murcia, Palma de Mallorca, Las Palmas de Gran Canaria, and Bilbao.\n",
      "In early antiquity, the Iberian Peninsula was inhabited by a mixture of Iberian and Celtic tribes, along with other local pre-Roman peoples. With the Roman conquest of the Iberian Peninsula, the province of Hispania was established. Following the Romanization and Christianization of Hispania, the fall of the Western Roman Empire ushered in the inward migration of tribes from Central Europe, including the Visigoths, who formed the Visigothic Kingdom centred on Toledo. In the early eighth century, most of the peninsula was conquered by the Umayyad Caliphate, and during early Islamic rule, Al-Andalus became a dominant peninsular power centred in Córdoba. Several Christian kingdoms emerged in Northern Iberia, chief among them Asturias, León, Castile, Aragon, Navarre, and Portugal; made an intermittent southward military expansion, known as the Reconquista, repelling Islamic rule in Iberia, which culminated with the Christian seizure of the Nasrid Kingdom of Granada in 1492. The dynastic union of the Crown of Castile and the Crown of Aragon in 1479 under the Catholic Monarchs is often considered the de facto unification of Spain as a nation-state.\n",
      "During the Age of Discovery, Spain pioneered the  exploration and colonization of the New World, and formed one of the largest empires in history. The Spanish Empire reached a global scale spreading across all continents, and the need for financing, along the transatlantic trade, underpinned the rise of a global trading system fueled primarily by precious metals. The 18th century was marked by extensive reforms and, notably, the Bourbon reforms centralized mainland Spain. In the 19th century, despite the victory in the Peninsular War, the following political divisions between liberals and absolutists eventually led to the independence of most of its American colonies. Political instability reached its peak in the 20th century with the Spanish Civil War, giving rise to the Francoist dictatorship that lasted until 1975. With the restoration of democracy under the Constitution of Spain and its entry into the European Union, the country experienced an economic boom that profoundly transformed it socially and politically. Since the Siglo de Oro, Spanish art, architecture, music, poetry, painting, literature, and cuisine have been influential worldwide, particularly in Western Europe and the Americas. As a reflection of its large cultural wealth, Spain has one of the world's largest numbers of World Heritage Sites, It is the world's second-most visited country and the most popular destination for Erasmus students. Its cultural influence extends to over 600 million Hispanophones, making Spanish the world's second-most spoken native language and the world's most widely spoken Romance language.Spain is a secular parliamentary democracy and a constitutional monarchy, with King Felipe VI as head of state. It is a major advanced capitalist economy, with the world's fifteenth-largest economy by nominal GDP (fourth of the European Union) and the fifteenth-largest by \u001B[0m\n",
      "Thought:\u001B[32;1m\u001B[1;3m I now know the final answer\n",
      "Final Answer: Madrid\u001B[0m\n",
      "\n",
      "\u001B[1m> Finished chain.\u001B[0m\n"
     ]
    },
    {
     "data": {
      "text/plain": "'Madrid'"
     },
     "execution_count": 31,
     "metadata": {},
     "output_type": "execute_result"
    }
   ],
   "source": [
    "from langchain.agents import initialize_agent\n",
    "from langchain.agents import AgentJob\n",
    "from langchain.agents import load_tools\n",
    "from langchain_openai import OpenAI\n",
    "\n",
    "llm = OpenAI(temperature=0)\n",
    "tools = load_tools([\"wikipedia\"], llm=llm)\n",
    "\n",
    "agent = initialize_agent(\n",
    "    tools=tools,\n",
    "    llm=llm,\n",
    "    agent=AgentJob.ZERO_SHOT_REACT_DESCRIPTION,\n",
    "    verbose=True\n",
    ")\n",
    "\n",
    "agent.run(\"What whats the capital of spain\")\n"
   ],
   "metadata": {
    "collapsed": false,
    "ExecuteTime": {
     "end_time": "2024-01-22T04:54:01.143892Z",
     "start_time": "2024-01-22T04:53:56.838560Z"
    }
   },
   "execution_count": 31
  },
  {
   "cell_type": "code",
   "outputs": [
    {
     "name": "stdout",
     "output_type": "stream",
     "text": [
      "\n",
      "\n",
      "\u001B[1m> Entering new AgentExecutor chain...\u001B[0m\n",
      "\u001B[32;1m\u001B[1;3m I should always think about what to do\n",
      "Action: Wikipedia\n",
      "Action Input: vlad the impaler\u001B[0m\n",
      "Observation: \u001B[36;1m\u001B[1;3mPage: Vlad the Impaler\n",
      "Summary: Vlad III, commonly known as Vlad the Impaler (Romanian: Vlad Țepeș [ˈvlad ˈtsepeʃ]) or Vlad Dracula (; Romanian: Vlad Drăculea [ˈdrəkule̯a]; 1428/31 – 1476/77), was Voivode of Wallachia three times between 1448 and his death in 1476/77. He is often considered one of the most important rulers in Wallachian history and a national hero of Romania.He was the second son of Vlad Dracul, who became the ruler of Wallachia in 1436. Vlad and his younger brother, Radu, were held as hostages in the Ottoman Empire in 1442 to secure their father's loyalty. Vlad's eldest brother Mircea and their father were murdered after John Hunyadi, regent-governor of Hungary, invaded Wallachia in 1447. Hunyadi installed Vlad's second cousin, Vladislav II, as the new voivode. Hunyadi launched a military campaign against the Ottomans in the autumn of 1448, and Vladislav accompanied him. Vlad broke into Wallachia with Ottoman support in October, but Vladislav returned, and Vlad sought refuge in the Ottoman Empire before the end of the year. Vlad went to Moldavia in 1449 or 1450 and later to Hungary.\n",
      "Relations between Hungary and Vladislav later deteriorated, and in 1456 Vlad invaded Wallachia with Hungarian support. Vladislav died fighting against him. Vlad began a purge among the Wallachian boyars to strengthen his position. He came into conflict with the Transylvanian Saxons, who supported his opponents, Dan and Basarab Laiotă (who were Vladislav's brothers), and Vlad's illegitimate half-brother, Vlad Călugărul. Vlad plundered the Saxon villages, taking the captured people to Wallachia, where he had them impaled (which inspired his cognomen). Peace was restored in 1460.\n",
      "The Ottoman Sultan, Mehmed II, ordered Vlad to pay homage to him personally, but Vlad had the Sultan's two envoys captured and impaled. In February 1462, he attacked Ottoman territory, massacring tens of thousands of Turks and Muslim Bulgarians. Mehmed launched a campaign against Wallachia to replace Vlad with Vlad's younger brother, Radu. Vlad attempted to capture the sultan at Târgoviște during the night of 16–17 June 1462. The Sultan and the main Ottoman army left Wallachia, but more and more Wallachians deserted to Radu. Vlad went to Transylvania to seek assistance from Matthias Corvinus, King of Hungary, in late 1462, but Corvinus had him imprisoned.\n",
      "Vlad was held in captivity in Visegrád from 1463 to 1475. During this period, anecdotes about his cruelty started to spread in Germany and Italy. He was released at the request of Stephen III of Moldavia in the summer of 1475. He fought in Corvinus's army against the Ottomans in Bosnia in early 1476. Hungarian and Moldavian troops helped him to force Basarab Laiotă (who had dethroned Vlad's brother, Radu) to flee from Wallachia in November. Basarab returned with Ottoman support before the end of the year. Vlad was killed in battle before 10 January 1477. Books describing Vlad's cruel acts were among the first bestsellers in the German-speaking territories. In Russia, popular stories suggested that Vlad was able to strengthen his central government only by applying brutal punishments, and many 19th-century Romanian historians adopted a similar view. Vlad's patronymic inspired the name of Bram Stoker's literary vampire, Count Dracula.\n",
      "\n",
      "\n",
      "\n",
      "Page: Impalement\n",
      "Summary: Impalement, as a method of torture and execution, is the penetration of a human by an object such as a stake, pole, spear, or hook, often by the complete or partial perforation of the torso. It was particularly used in response to \"crimes against the state\" and regarded across a number of cultures as a very harsh form of capital punishment and recorded in myth and art. Impalement was also used during times of war to suppress rebellions, punish traitors or collaborators, and punish breaches of military discipline.\n",
      "Offences where impalement was occasionally employed included contempt for the state's responsibility for safe roads and trade routes by com\u001B[0m\n",
      "Thought:\u001B[32;1m\u001B[1;3m I now know the final answer\n",
      "Final Answer: Vlad III, commonly known as Vlad the Impaler, was a Voivode of Wallachia who is often considered a national hero of Romania. He was known for his cruel methods of punishment, including impalement, which inspired the name of Bram Stoker's literary vampire, Count Dracula.\u001B[0m\n",
      "\n",
      "\u001B[1m> Finished chain.\u001B[0m\n"
     ]
    },
    {
     "data": {
      "text/plain": "\"Vlad III, commonly known as Vlad the Impaler, was a Voivode of Wallachia who is often considered a national hero of Romania. He was known for his cruel methods of punishment, including impalement, which inspired the name of Bram Stoker's literary vampire, Count Dracula.\""
     },
     "execution_count": 30,
     "metadata": {},
     "output_type": "execute_result"
    }
   ],
   "source": [
    "agent.run(\"who is vlad the impaler\")"
   ],
   "metadata": {
    "collapsed": false,
    "ExecuteTime": {
     "end_time": "2024-01-22T04:52:47.722772Z",
     "start_time": "2024-01-22T04:52:42.575034Z"
    }
   },
   "execution_count": 30
  },
  {
   "cell_type": "code",
   "outputs": [],
   "source": [
    "tool = AIPluginTool.from_plugin_url(\"https://www.klarna.com/.well-known/ai-plugin.json\")"
   ],
   "metadata": {
    "collapsed": false
   }
  }
 ],
 "metadata": {
  "kernelspec": {
   "display_name": "Python 3",
   "language": "python",
   "name": "python3"
  },
  "language_info": {
   "codemirror_mode": {
    "name": "ipython",
    "version": 2
   },
   "file_extension": ".py",
   "mimetype": "text/x-python",
   "name": "python",
   "nbconvert_exporter": "python",
   "pygments_lexer": "ipython2",
   "version": "2.7.6"
  }
 },
 "nbformat": 4,
 "nbformat_minor": 1
}
