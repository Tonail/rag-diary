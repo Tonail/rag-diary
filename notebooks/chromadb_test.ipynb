{
 "cells": [
  {
   "cell_type": "code",
   "execution_count": 15,
   "id": "initial_id",
   "metadata": {
    "collapsed": true,
    "ExecuteTime": {
     "end_time": "2024-01-21T20:21:34.574784Z",
     "start_time": "2024-01-21T20:21:34.475484Z"
    }
   },
   "outputs": [
    {
     "name": "stdout",
     "output_type": "stream",
     "text": [
      "The autoreload extension is already loaded. To reload it, use:\n",
      "  %reload_ext autoreload\n"
     ]
    }
   ],
   "source": [
    "%load_ext autoreload\n",
    "%autoreload 2"
   ]
  },
  {
   "cell_type": "code",
   "outputs": [],
   "source": [
    "from pathlib import Path\n",
    "from dotenv import load_dotenv\n",
    "import openai\n",
    "from rag_diary.config import Config\n",
    "from rag_diary.vectore_store_chromadb import ChromadbVectorStore\n",
    "\n",
    "current_folder = globals()['_dh'][0]\n",
    "\n",
    "load_dotenv(Path(current_folder).parent / \".env\")\n",
    "openai.api_key = Config().OPENAI_API_KEY\n",
    "\n",
    "config = Config()"
   ],
   "metadata": {
    "collapsed": false,
    "ExecuteTime": {
     "end_time": "2024-01-21T20:31:39.072192Z",
     "start_time": "2024-01-21T20:31:38.964927Z"
    }
   },
   "id": "58a13bc5a3a81aaa",
   "execution_count": 25
  },
  {
   "cell_type": "markdown",
   "source": [
    "## Rag diary Chromadb\n",
    "#### create a new rag_diary.ChromadbVectorStore\n",
    "\n",
    "The ChromadbVectorStore implements the rag_diary.VectorStore. rag_diary vector stores should work the same way.\n",
    "\n",
    "define a collection name to retrieve, if the collection does not exist you will get a ValueError warning then the VecorStore will create a new collection. Chromadb will then persist the collection in a sqllite db stored locally at the path provided in the .env variable rag_diary_vector_db_path"
   ],
   "metadata": {
    "collapsed": false
   },
   "id": "feebffb9562fc5a3"
  },
  {
   "cell_type": "code",
   "outputs": [],
   "source": [
    "rag_vector_store = ChromadbVectorStore(db_path=config.rag_diary_vector_db_path, collection_name=\"rag_diary_jupyter\")"
   ],
   "metadata": {
    "collapsed": false
   },
   "id": "9e70eaca2387810d"
  },
  {
   "cell_type": "markdown",
   "source": [
    "### Lets add some test data into the persistent storage \n",
    "adds a single record with the text to embedd and some metadata"
   ],
   "metadata": {
    "collapsed": false
   },
   "id": "ec16669828449802"
  },
  {
   "cell_type": "code",
   "outputs": [
    {
     "name": "stderr",
     "output_type": "stream",
     "text": [
      "/Users/tonail_/.cache/chroma/onnx_models/all-MiniLM-L6-v2/onnx.tar.gz: 100%|██████████| 79.3M/79.3M [00:03<00:00, 21.2MiB/s]\n"
     ]
    }
   ],
   "source": [
    "rag_vector_store.add(\"this is an entry about dogs\", {\"name\": \"dogs\", \"id\":\"123\"})"
   ],
   "metadata": {
    "collapsed": false,
    "ExecuteTime": {
     "end_time": "2024-01-21T20:22:50.816185Z",
     "start_time": "2024-01-21T20:22:45.415250Z"
    }
   },
   "id": "33b12d9aded1d83a",
   "execution_count": 20
  },
  {
   "cell_type": "markdown",
   "source": [
    "add multiple records at once to the db."
   ],
   "metadata": {
    "collapsed": false
   },
   "id": "a9cd8794da3e472a"
  },
  {
   "cell_type": "code",
   "outputs": [],
   "source": [
    "rag_vector_store.add_multiple(\n",
    "    documents=[\n",
    "        \"this is a document about cats\",\n",
    "        \"Robots are destined to rule the world of man\"\n",
    "    ],\n",
    "    metadatas=[\n",
    "        {\"name\": \"cats\", \"id\":\"122\"},\n",
    "        {\"name\": \"robots\", \"id\": \"0101010101010101010\"}\n",
    "    ]\n",
    "    \n",
    ")"
   ],
   "metadata": {
    "collapsed": false,
    "ExecuteTime": {
     "end_time": "2024-01-21T20:25:26.100274Z",
     "start_time": "2024-01-21T20:25:25.996545Z"
    }
   },
   "id": "16f84102c0a33751",
   "execution_count": 24
  },
  {
   "cell_type": "markdown",
   "source": [
    "### Here is the fun part. \n",
    "Let us query the vector db. This implementation uses a local embedding model. queries will return results ordered by cosine similarity in the form of Records."
   ],
   "metadata": {
    "collapsed": false
   },
   "id": "3a641bca10e0a61e"
  },
  {
   "cell_type": "code",
   "outputs": [
    {
     "name": "stderr",
     "output_type": "stream",
     "text": [
      "Number of requested results 10 is greater than number of elements in index 3, updating n_results = 3\n"
     ]
    },
    {
     "data": {
      "text/plain": "[{'document': 'Robots are destined to rule the world of man',\n  '_id': 'e5768791-e7a4-4483-bbe4-906550cf3e25',\n  'id': '0101010101010101010',\n  'name': 'robots'},\n {'document': 'this is an entry about dogs',\n  '_id': '9355166b-c9c9-4d84-888a-9fcfd95ccdc2',\n  'id': '123',\n  'name': 'dogs'},\n {'document': 'this is a document about cats',\n  '_id': 'b927d8f6-1714-48b6-891a-49922f539ef7',\n  'id': '122',\n  'name': 'cats'}]"
     },
     "execution_count": 60,
     "metadata": {},
     "output_type": "execute_result"
    }
   ],
   "source": [
    "data = rag_vector_store.query_by_str(\"robots are cool\")\n",
    "data"
   ],
   "metadata": {
    "collapsed": false,
    "ExecuteTime": {
     "end_time": "2024-01-21T21:00:11.369117Z",
     "start_time": "2024-01-21T21:00:11.142399Z"
    }
   },
   "id": "9275ed7deb958f1d",
   "execution_count": 60
  }
 ],
 "metadata": {
  "kernelspec": {
   "display_name": "Python 3",
   "language": "python",
   "name": "python3"
  },
  "language_info": {
   "codemirror_mode": {
    "name": "ipython",
    "version": 2
   },
   "file_extension": ".py",
   "mimetype": "text/x-python",
   "name": "python",
   "nbconvert_exporter": "python",
   "pygments_lexer": "ipython2",
   "version": "2.7.6"
  }
 },
 "nbformat": 4,
 "nbformat_minor": 5
}
