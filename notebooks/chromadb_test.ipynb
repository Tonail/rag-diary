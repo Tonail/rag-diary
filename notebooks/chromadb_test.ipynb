{
 "cells": [
  {
   "cell_type": "code",
   "outputs": [],
   "source": [
    "from pathlib import Path\n",
    "from dotenv import load_dotenv\n",
    "import openai\n",
    "from rag_diary.config import Config\n",
    "from rag_diary.vectore_store_chromadb import VectorStoreChromadb\n",
    "\n",
    "current_folder = globals()['_dh'][0]\n",
    "\n",
    "load_dotenv(Path(current_folder).parent / \".env\")\n",
    "openai.api_key = Config().OPENAI_API_KEY\n",
    "\n",
    "config = Config()"
   ],
   "metadata": {
    "collapsed": false,
    "ExecuteTime": {
     "end_time": "2024-01-21T23:17:57.796285Z",
     "start_time": "2024-01-21T23:17:56.105437Z"
    }
   },
   "execution_count": 2
  },
  {
   "cell_type": "markdown",
   "source": [
    "## Rag diary Chromadb\n",
    "#### create a new rag_diary.VectorStoreChromadb\n",
    "\n",
    "The VectorStoreChromadb implements the rag_diary.VectorStore. rag_diary vector stores should work the same way.\n",
    "\n",
    "define a collection name to retrieve, if the collection does not exist you will get a ValueError warning then the VecorStore will create a new collection. Chromadb will then persist the collection in a sqllite db stored locally at the path provided in the .env variable rag_diary_vector_db_path"
   ],
   "metadata": {
    "collapsed": false
   }
  },
  {
   "cell_type": "code",
   "outputs": [
    {
     "name": "stderr",
     "output_type": "stream",
     "text": [
      "Collection rag_diary_jupyter does not exist.\n"
     ]
    }
   ],
   "source": [
    "rag_vector_store = VectorStoreChromadb(db_path=config.rag_diary_vector_db_path, collection_name=\"rag_diary_jupyter\")"
   ],
   "metadata": {
    "collapsed": false,
    "ExecuteTime": {
     "end_time": "2024-01-21T23:17:59.402832Z",
     "start_time": "2024-01-21T23:17:59.220841Z"
    }
   },
   "execution_count": 3
  },
  {
   "cell_type": "markdown",
   "source": [
    "### Lets add some test data into the persistent storage \n",
    "adds a single record with the text to embedd and some metadata"
   ],
   "metadata": {
    "collapsed": false
   }
  },
  {
   "cell_type": "code",
   "outputs": [],
   "source": [
    "rag_vector_store.add(\"this is an entry about dogs\", {\"name\": \"dogs\", \"id\":\"123\"})"
   ],
   "metadata": {
    "collapsed": false,
    "ExecuteTime": {
     "end_time": "2024-01-21T23:18:02.190432Z",
     "start_time": "2024-01-21T23:18:01.648404Z"
    }
   },
   "execution_count": 4
  },
  {
   "cell_type": "markdown",
   "source": [
    "add multiple records at once to the db."
   ],
   "metadata": {
    "collapsed": false
   }
  },
  {
   "cell_type": "code",
   "outputs": [],
   "source": [
    "rag_vector_store.add_multiple(\n",
    "    documents=[\n",
    "        \"this is a document about cats\",\n",
    "        \"Robots are destined to rule the world of man\"\n",
    "    ],\n",
    "    metadatas=[\n",
    "        {\"name\": \"cats\", \"id\":\"122\"},\n",
    "        {\"name\": \"robots\", \"id\": \"0101010101010101010\"}\n",
    "    ]\n",
    "    \n",
    ")"
   ],
   "metadata": {
    "collapsed": false,
    "ExecuteTime": {
     "end_time": "2024-01-21T23:18:03.875536Z",
     "start_time": "2024-01-21T23:18:03.739892Z"
    }
   },
   "execution_count": 5
  },
  {
   "cell_type": "markdown",
   "source": [
    "### Here is the fun part. \n",
    "Let us query the vector db. This implementation uses a local embedding model. queries will return results ordered by cosine similarity in the form of Records."
   ],
   "metadata": {
    "collapsed": false
   }
  },
  {
   "cell_type": "code",
   "outputs": [
    {
     "name": "stderr",
     "output_type": "stream",
     "text": [
      "Number of requested results 10 is greater than number of elements in index 3, updating n_results = 3\n"
     ]
    },
    {
     "data": {
      "text/plain": "[{'document': 'Robots are destined to rule the world of man',\n  '_id': 'd479505e-e4c8-4647-96be-ac6fbcc1905e',\n  'id': '0101010101010101010',\n  'name': 'robots'},\n {'document': 'this is an entry about dogs',\n  '_id': 'f0447a32-ffdd-4688-bea3-9532dbc9d631',\n  'id': '123',\n  'name': 'dogs'},\n {'document': 'this is a document about cats',\n  '_id': '7047b6d9-56be-4830-8d88-4720486569cf',\n  'id': '122',\n  'name': 'cats'}]"
     },
     "execution_count": 6,
     "metadata": {},
     "output_type": "execute_result"
    }
   ],
   "source": [
    "data = rag_vector_store.query_by_str(\"robots are cool\")\n",
    "data"
   ],
   "metadata": {
    "collapsed": false,
    "ExecuteTime": {
     "end_time": "2024-01-21T23:18:05.389925Z",
     "start_time": "2024-01-21T23:18:05.320646Z"
    }
   },
   "execution_count": 6
  }
 ],
 "metadata": {
  "kernelspec": {
   "display_name": "Python 3",
   "language": "python",
   "name": "python3"
  },
  "language_info": {
   "codemirror_mode": {
    "name": "ipython",
    "version": 2
   },
   "file_extension": ".py",
   "mimetype": "text/x-python",
   "name": "python",
   "nbconvert_exporter": "python",
   "pygments_lexer": "ipython2",
   "version": "2.7.6"
  }
 },
 "nbformat": 4,
 "nbformat_minor": 1
}
